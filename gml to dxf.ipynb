{
 "cells": [
  {
   "cell_type": "code",
   "execution_count": null,
   "id": "43bd4543",
   "metadata": {},
   "outputs": [],
   "source": [
    "!pip install GDAL"
   ]
  },
  {
   "cell_type": "code",
   "execution_count": null,
   "id": "89fb7a07",
   "metadata": {},
   "outputs": [],
   "source": [
    "import os\n",
    "from osgeo import ogr\n",
    "\n",
    "def convert_gml_to_dxf(gml_file, dxf_file):\n",
    "    # Abre el archivo GML\n",
    "    gml_data = ogr.Open(gml_file)\n",
    "    if gml_data is None:\n",
    "        print(f\"No se pudo abrir el archivo GML: {gml_file}\")\n",
    "        return\n",
    "\n",
    "    # Obtén la primera capa del archivo GML\n",
    "    layer = gml_data.GetLayer(0)\n",
    "\n",
    "    # Crea un nuevo archivo DXF\n",
    "    driver = ogr.GetDriverByName('DXF')\n",
    "    if driver is None:\n",
    "        print(\"El driver DXF no está disponible.\")\n",
    "        return\n",
    "\n",
    "    # Crea el archivo DXF\n",
    "    dxf_data = driver.CreateDataSource(dxf_file)\n",
    "    if dxf_data is None:\n",
    "        print(f\"No se pudo crear el archivo DXF: {dxf_file}\")\n",
    "        return\n",
    "\n",
    "    # Copia la capa al archivo DXF\n",
    "    dxf_data.CopyLayer(layer, 'layer')\n",
    "\n",
    "    # Limpieza\n",
    "    del gml_data, dxf_data\n",
    "    print(f\"Archivo convertido: {gml_file} a {dxf_file}\")\n",
    "\n",
    "def convert_all_gml_in_folder(folder_path):\n",
    "    # Lista todos los archivos GML en la carpeta\n",
    "    for file in os.listdir(folder_path):\n",
    "        if file.lower().endswith(\".gml\"):\n",
    "            gml_file = os.path.join(folder_path, file)\n",
    "            dxf_file = os.path.join(folder_path, os.path.splitext(file)[0] + \".dxf\")\n",
    "            convert_gml_to_dxf(gml_file, dxf_file)\n",
    "\n",
    "# Ruta a la carpeta que contiene los archivos GML\n",
    "folder_path = 'C:\\GML2DXF\\gml_dxf'\n",
    "convert_all_gml_in_folder(folder_path)\n"
   ]
  },
  {
   "cell_type": "code",
   "execution_count": null,
   "id": "9b958223",
   "metadata": {},
   "outputs": [],
   "source": []
  }
 ],
 "metadata": {
  "kernelspec": {
   "display_name": "Python 3 (ipykernel)",
   "language": "python",
   "name": "python3"
  },
  "language_info": {
   "codemirror_mode": {
    "name": "ipython",
    "version": 3
   },
   "file_extension": ".py",
   "mimetype": "text/x-python",
   "name": "python",
   "nbconvert_exporter": "python",
   "pygments_lexer": "ipython3",
   "version": "3.9.12"
  }
 },
 "nbformat": 4,
 "nbformat_minor": 5
}
